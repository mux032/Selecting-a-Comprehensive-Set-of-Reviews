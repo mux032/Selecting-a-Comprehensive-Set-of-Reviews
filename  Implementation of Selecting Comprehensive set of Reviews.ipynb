{
 "cells": [
  {
   "cell_type": "markdown",
   "metadata": {},
   "source": [
    "# Implementation of Selecting Comprehensive set of Reviews"
   ]
  },
  {
   "cell_type": "code",
   "execution_count": null,
   "metadata": {
    "collapsed": true
   },
   "outputs": [],
   "source": [
    "import pandas as pd\n",
    "import gzip\n",
    "\n",
    "import nltk\n",
    "import nltk.data\n",
    "import nltk.tokenize\n",
    "from nltk.tree import Tree\n",
    "\n",
    "from nltk.corpus import stopwords\n",
    "from nltk.stem import PorterStemmer\n",
    "from nltk.tokenize import sent_tokenize, word_tokenize"
   ]
  },
  {
   "cell_type": "markdown",
   "metadata": {},
   "source": [
    "### Read Data from JSON file"
   ]
  },
  {
   "cell_type": "code",
   "execution_count": null,
   "metadata": {
    "collapsed": true
   },
   "outputs": [],
   "source": [
    "def parse(path):\n",
    "  g = gzip.open(path, 'rb')\n",
    "  for l in g:\n",
    "    yield eval(l)\n",
    "\n",
    "def getDF(path):\n",
    "  i = 0\n",
    "  df = {}\n",
    "  for d in parse(path):\n",
    "    df[i] = d\n",
    "    i += 1\n",
    "  return pd.DataFrame.from_dict(df, orient='index')\n",
    "\n",
    "df = getDF('reviews_Musical_Instruments.json.gz')"
   ]
  },
  {
   "cell_type": "markdown",
   "metadata": {
    "scrolled": true
   },
   "source": [
    "##### 1) only 4 columns are required reviewtext, asin, helpful (calculated quality score) and overall\n",
    "##### 2) prune items for which reviews are less than 20 or addition of positive and negative helpful votes are less than 10"
   ]
  },
  {
   "cell_type": "code",
   "execution_count": null,
   "metadata": {
    "collapsed": true
   },
   "outputs": [],
   "source": [
    "count = 1\n",
    "initValue = 0 \n",
    "review = []\n",
    "sizeByGroup = []\n",
    "setOfReviews = []\n",
    "\n",
    "for i in range(1, len(df)):\n",
    "    if df.asin[i-1] == df.asin[i]:\n",
    "        count += 1\n",
    "    else :\n",
    "        sizeByGroup.append(count)\n",
    "        count = 1\n",
    "        \n",
    "for i in range(len(sizeByGroup)):\n",
    "    if sizeByGroup[i] > 20:\n",
    "        for j in range(sizeByGroup[i]):\n",
    "            if sum(df['helpful'].iloc[initValue+j]) > 10:\n",
    "                review.append(df['reviewText'].iloc[initValue+j])\n",
    "                setOfReviews.append([df['asin'].iloc[initValue+j], df['reviewText'].iloc[initValue+j], (df['helpful'].iloc[initValue+j])[0]/sum(df['helpful'].iloc[initValue+j]), df['overall'].iloc[initValue+j]])\n",
    "    initValue += sizeByGroup[i]\n",
    "    \n",
    "refinedSetOfReviews = pd.DataFrame(setOfReviews, columns=['asin', 'reviewText', 'helpful', 'overall'])"
   ]
  },
  {
   "cell_type": "markdown",
   "metadata": {},
   "source": [
    "## Two methods have been tried for collection of noun and noun phrases\n",
    "###### *use one of them"
   ]
  },
  {
   "cell_type": "markdown",
   "metadata": {},
   "source": [
    "### 1) Stanford NLP\n",
    "#### Run the server using all jars in the current directory (e.g., the CoreNLP home directory)\n",
    "###### java -mx4g -cp \"*\" edu.stanford.nlp.pipeline.StanfordCoreNLPServer -port 9000 -timeout 15000"
   ]
  },
  {
   "cell_type": "code",
   "execution_count": null,
   "metadata": {
    "collapsed": true
   },
   "outputs": [],
   "source": [
    "from pycorenlp import StanfordCoreNLP\n",
    "nlp = StanfordCoreNLP('http://localhost:9000')"
   ]
  },
  {
   "cell_type": "code",
   "execution_count": null,
   "metadata": {
    "collapsed": true
   },
   "outputs": [],
   "source": [
    "def find_noun_phrases(tree):\n",
    "    return [subtree for subtree in tree.subtrees(lambda t: t.label()=='NN')]\n",
    "\n",
    "def find_head_of_np(np):\n",
    "    noun_tags = ['NN', 'NNS', 'NNP', 'NNPS']\n",
    "    top_level_trees = [np[i] for i in range(len(np)) if type(np[i]) is Tree]\n",
    "    top_level_nouns = [t for t in top_level_trees if t.label() in noun_tags]\n",
    "    if len(top_level_nouns) > 0:\n",
    "        return top_level_nouns[-1][0]\n",
    "    else:\n",
    "        top_level_nps = [t for t in top_level_trees if t.label()=='NP']\n",
    "        if len(top_level_nps) > 0:\n",
    "            return find_head_of_np(top_level_nps[-1])\n",
    "        else:\n",
    "            nouns = [p[0] for p in np.pos() if p[1] in noun_tags]\n",
    "            if len(nouns) > 0:\n",
    "                return nouns[-1]\n",
    "            else:\n",
    "                return np.leaves()[-1]"
   ]
  },
  {
   "cell_type": "markdown",
   "metadata": {},
   "source": [
    "### 2) nltk pos_tag"
   ]
  },
  {
   "cell_type": "code",
   "execution_count": null,
   "metadata": {
    "collapsed": true
   },
   "outputs": [],
   "source": [
    "L = []\n",
    "t = []\n",
    "L1 = []\n",
    "count = 0\n",
    "ps = PorterStemmer()\n",
    "stop_words = {'k', 'particularly', 'normally', 'himself', 'unto', 'herself', 'followed', 'are', 'latter', 'tried', 'it', 'hers', 'whence', 'none', 'become', 'besides', 'lest', 'about', 'able', 'concerning', 'seems', 'she', 'more', 'as', 'wonder', 'o', 'beside', 'because', 'seriously', 'will', 'said', 'everything', 'associated', 'took', 'thorough', 'let', 'specified', 'gotten', 'no', 'one', 'howbeit', 'us', 'further', 'eg', 'ought', 'anyways', 'nearly', 'consider', 'happens', 'several', 'whereby', 'merely', 'but', 'want', 'second', 'downwards', 'whereupon', 'inner', 'even', 'a', 'yes', 'next', 'vs', 'so', 'respectively', 'nobody', 'would', 'upon', 'nothing', 'particular', 'at', 'meanwhile', 'clearly', 'moreover', 'soon', 'nine', 'sub', 'value', 'indeed', 'without', 'think', 'immediate', 'saw', 'provides', 'sorry', 'contain', 'sent', 'seem', 'needs', 'less', 'done', 'maybe', 'their', 'within', 'selves', 'nevertheless', 'near', 'un', 'together', 'exactly', 'p', 'need', 'saying', 'own', 'following', 'everyone', 'against', 'formerly', 'the', 'right', 'consequently', 'far', 'do', 'aside', 'his', 'unlikely', 'seeming', 'nd', 'five', 'again', 'where', 'q', 'kept', 'please', 'being', 'behind', 'considering', 'greetings', 'inc', 'and', 'certain', 'cause', 'gives', 'que', 'course', 'used', 'appropriate', 'tends', 're', 'to', 'thereby', 'd', 'per', 'neither', 'nor', 'c', 'b', 'my', 's', 'ever', 'indicated', 'whose', 'l', 'hardly', 'going', 'reasonably', 'only', 'well', 'someone', 'comes', 'almost', 'we', 'four', 'way', 'else', 'thence', 'toward', 'beforehand', 'yourself', 'very', 'was', 'goes', 'probably', 'keep', 'three', 'which', 'various', 'having', 'whenever', 'not', 'instead', 'novel', 'obviously', 'available', 'might', 'trying', 'taken', 'first', 'furthermore', 'go', 'insofar', 'third', 'these', 'cant', 'anything', 'x', 'came', 'unfortunately', 'herein', 'whoever', 'zero', 'according', 'while', 'two', 'gone', 'away', 'could', 'seemed', 'such', 'over', 'its', 'under', 'others', 'mainly', 'until', 'much', 'six', 'were', 'should', 'take', 'quite', 'few', 'r', 'throughout', 'if', 'thanks', 'anyone', 'seeing', 'whereas', 'ltd', 'whether', 'certainly', 'therefore', 'somewhat', 'you', 'says', 'try', 'when', 'follows', 'serious', 'know', 'lately', 'got', 'out', 'relatively', 'etc', 'does', 'ex', 'help', 'getting', 'for', 'wherein', 'becoming', 'tell', 'twice', 'e', 'itself', 'really', 'theres', 'theirs', 'thoroughly', 'presumably', 'rd', 'edu', 'hereby', 'towards', 'name', 'however', 'noone', 'any', 'v', 'placed', 'changes', 'hello', 'like', 'f', 'liked', 'ignored', 'thus', 'specifying', 'both', 'all', 'specify', 'then', 'sometime', 'by', 'necessary', 'yours', 'indicate', 'definitely', 'whither', 'possible', 'here', 'whatever', 'between', 'otherwise', 'everybody', 'other', 'latterly', 'is', 'come', 'up', 'through', 'nowhere', 'in', 'sometimes', 'thereupon', 'especially', 'hopefully', 'use', 'least', 'allow', 'eight', 'whom', 'truly', 'me', 'via', 'this', 'on', 'onto', 'allows', 'below', 'asking', 'uses', 'often', 'new', 'elsewhere', 'always', 'inward', 'down', 'apart', 'thank', 'than', 'better', 'must', 'old', 'have', 'becomes', 'each', 'went', 'before', 'already', 'th', 'myself', 'w', 'sure', 'with', 'containing', 'g', 'com', 'little', 'believe', 'did', 'either', 'same', 'look', 'okay', 'beyond', 'cannot', 'uucp', 'thats', 'still', 'namely', 'useful', 'somewhere', 'ourselves', 'ones', 'from', 'those', 'somebody', 'actually', 'an', 'looking', 'brief', 'therein', 'shall', 'knows', 'ok', 'her', 'can', 'despite', 'yet', 'your', 'though', 'h', 't', 'afterwards', 'self', 'fifth', 'looks', 'et', 'seen', 'overall', 'known', 'some', 'entirely', 'mean', 'doing', 'qv', 'anywhere', 'seven', 'sensible', 'regardless', 'regards', 'accordingly', 'across', 'ie', 'forth', 'amongst', 'who', 'alone', 'since', 'awfully', 'z', 'n', 'contains', 'anybody', 'hither', 'unless', 'he', 'plus', 'every', 'likely', 'along', 'them', 'u', 'am', 'our', 'hereafter', 'once', 'described', 'of', 'oh', 'tries', 'appear', 'keeps', 'him', 'm', 'usually', 'something', 'somehow', 'above', 'too', 'there', 'perhaps', 'around', 'now', 'later', 'had', 'enough', 'why', 'example', 'been', 'except', 'thereafter', 'see', 'say', 'themselves', 'i', 'sup', 'thanx', 'anyway', 'never', 'former', 'hereupon', 'causes', 'outside', 'during', 'appreciate', 'or', 'using', 'ours', 'everywhere', 'wants', 'became', 'most', 'j', 'be', 'how', 'mostly', 'anyhow', 'viz', 'among', 'hence', 'inasmuch', 'last', 'whereafter', 'indicates', 'rather', 'just', 'gets', 'they', 'after', 'may', 'get', 'co', 'given', 'another', 'ask', 'has', 'although', 'different', 'wish', 'thru', 'also', 'whole', 'non', 'best', 'what', 'off', 'yourselves', 'y', 'wherever', 'into', 'that', 'many', 'currently', 'hi', 'welcome', 'secondly', 'corresponding', 'regarding', 'willing'}\n",
    "for i in range(len(refinedSetOfReviews)):\n",
    "    raw = refinedSetOfReviews.reviewText[i]\n",
    "    raw.replace(\".\",\". \")\n",
    "    tokenized_sentences = nltk.sent_tokenize(raw)\n",
    "    L2 = []\n",
    "    count += len(tokenized_sentences)\n",
    "    for j in range(len(tokenized_sentences)): \n",
    "        text = nltk.word_tokenize((tokenized_sentences[j]))\n",
    "        pos_sentences = nltk.pos_tag(text)      \n",
    "        L3 = []\n",
    "        for k in range(len(pos_sentences)):\n",
    "            if pos_sentences[k][1] == \"NN\":\n",
    "                if (pos_sentences[k][0]).lower() not in stop_words:\n",
    "                    L3.append(pos_sentences[k][0].lower())\n",
    "        if L3:\n",
    "            L.append(list(set(L3)))\n",
    "            L2.append(list(set(L3)))\n",
    "            t.append(tuple(set(L3)))\n",
    "    L1.append(L2)"
   ]
  },
  {
   "cell_type": "markdown",
   "metadata": {},
   "source": [
    "### Finding Fequent Item Set"
   ]
  },
  {
   "cell_type": "code",
   "execution_count": null,
   "metadata": {},
   "outputs": [],
   "source": [
    "from pymining import itemmining\n",
    "transactions = tuple(t)\n",
    "relim_input = itemmining.get_relim_input(transactions)\n",
    "report = itemmining.relim(relim_input, min_support=1000)"
   ]
  },
  {
   "cell_type": "code",
   "execution_count": null,
   "metadata": {},
   "outputs": [],
   "source": [
    "listReport = list(report)\n",
    "attributes = []\n",
    "for i in listReport:\n",
    "    conv = list(i)\n",
    "    temp = []\n",
    "    for j in conv:\n",
    "        temp.append(j)\n",
    "    attributes.append(temp)"
   ]
  },
  {
   "cell_type": "markdown",
   "metadata": {},
   "source": [
    "## Seven Coverage Functions are:"
   ]
  },
  {
   "cell_type": "markdown",
   "metadata": {},
   "source": [
    "### 1) Unit Coverage function f_{u}"
   ]
  },
  {
   "cell_type": "code",
   "execution_count": null,
   "metadata": {},
   "outputs": [],
   "source": [
    "def f_u(S, a):\n",
    "    if len(S) >= 1:\n",
    "        for s in S:\n",
    "            if len(a) == 1:\n",
    "                if s.count(a[0]) > 0:\n",
    "                    return 1\n",
    "            else:\n",
    "                flag = 0\n",
    "                for a1 in a:\n",
    "                    if s.count(a1) > 0:\n",
    "                        flag += 1\n",
    "                if flag == len(a):\n",
    "                    return 1\n",
    "        return 0\n",
    "    else:\n",
    "        return 0   "
   ]
  },
  {
   "cell_type": "markdown",
   "metadata": {},
   "source": [
    "### 2) Quality Coverage function f_{q}"
   ]
  },
  {
   "cell_type": "code",
   "execution_count": null,
   "metadata": {
    "collapsed": true
   },
   "outputs": [],
   "source": [
    "def f_q(S, a):\n",
    "    maxQualityScore = 0\n",
    "    for s in S:\n",
    "        flag = 0\n",
    "        for a1 in a:\n",
    "            if s.count(a1) == 0:\n",
    "                flag = 1\n",
    "                break\n",
    "        if flag == 0:\n",
    "            ind = review.index(s)\n",
    "            if maxQualityScore < refinedSetOfReviews.helpful[ind]:\n",
    "                maxQualityScore = refinedSetOfReviews.helpful[ind]\n",
    "    return maxQualityScore"
   ]
  },
  {
   "cell_type": "markdown",
   "metadata": {},
   "source": [
    "### 3) Soft  Unit Coverage function f_{su}"
   ]
  },
  {
   "cell_type": "code",
   "execution_count": null,
   "metadata": {
    "collapsed": true
   },
   "outputs": [],
   "source": [
    "def f_su(S, a):\n",
    "    S1 = []\n",
    "    S2 = []\n",
    "    for s in S:\n",
    "        if refinedSetOfReviews.overall[review.index(s)] > 3:\n",
    "            S1.append(s)\n",
    "        else:\n",
    "            S2.append(s)\n",
    "    return (f_u(S1, a) + f_u(S2, a))"
   ]
  },
  {
   "cell_type": "markdown",
   "metadata": {
    "collapsed": true
   },
   "source": [
    "### 4) Soft Quality Coverage function f_{sq}"
   ]
  },
  {
   "cell_type": "code",
   "execution_count": null,
   "metadata": {
    "collapsed": true
   },
   "outputs": [],
   "source": [
    "def f_sq(S, a):\n",
    "    S1 = []\n",
    "    S2 = []\n",
    "    for s in S:\n",
    "        if refinedSetOfReviews.overall[review.index(s)] > 3:\n",
    "            S1.append(s)\n",
    "        else:\n",
    "            S2.append(s)\n",
    "    return (f_q(S1, a) + f_q(S2, a))"
   ]
  },
  {
   "cell_type": "markdown",
   "metadata": {},
   "source": [
    "### 5) Group Unit Coverage function f_{gu}"
   ]
  },
  {
   "cell_type": "code",
   "execution_count": null,
   "metadata": {
    "collapsed": true
   },
   "outputs": [],
   "source": [
    "def f_gu(S, a):\n",
    "    S1 = []\n",
    "    S2 = []\n",
    "    for s in S:\n",
    "        if refinedSetOfReviews.overall[review.index(s)] > 3:\n",
    "            S1.append(s)\n",
    "        else:\n",
    "            S2.append(s)\n",
    "    return min(f_u(S1, a), f_u(S2, a))"
   ]
  },
  {
   "cell_type": "markdown",
   "metadata": {},
   "source": [
    "### 6) Group Quality Coverage function f_{gq}"
   ]
  },
  {
   "cell_type": "code",
   "execution_count": null,
   "metadata": {
    "collapsed": true
   },
   "outputs": [],
   "source": [
    "def f_gq(S, a):\n",
    "    S1 = []\n",
    "    S2 = []\n",
    "    for s in S:\n",
    "        if refinedSetOfReviews.overall[review.index(s)] > 3:\n",
    "            S1.append(s)\n",
    "        else:\n",
    "            S2.append(s)\n",
    "    return min(f_q(S1, a), f_q(S2, a))"
   ]
  },
  {
   "cell_type": "markdown",
   "metadata": {},
   "source": [
    "### 7) Quality Metric"
   ]
  },
  {
   "cell_type": "code",
   "execution_count": null,
   "metadata": {
    "collapsed": true
   },
   "outputs": [],
   "source": [
    "def fQuality(S):\n",
    "    score = 0\n",
    "    for s in S:\n",
    "        score += refinedSetOfReviews.helpful[review.index(s)]\n",
    "    return score/len(S)"
   ]
  },
  {
   "cell_type": "markdown",
   "metadata": {},
   "source": [
    "## Six Cumualtive Fucntions are:"
   ]
  },
  {
   "cell_type": "markdown",
   "metadata": {},
   "source": [
    "### 1) Unit Cumulative Function F_{u} "
   ]
  },
  {
   "cell_type": "code",
   "execution_count": null,
   "metadata": {
    "collapsed": true
   },
   "outputs": [],
   "source": [
    "def F_u(S):\n",
    "    score = 0\n",
    "    for a in attributes:\n",
    "        score += f_u(S, a)\n",
    "    return score"
   ]
  },
  {
   "cell_type": "markdown",
   "metadata": {},
   "source": [
    "### 2) Quality Cumulative Function F_{q}"
   ]
  },
  {
   "cell_type": "code",
   "execution_count": null,
   "metadata": {
    "collapsed": true
   },
   "outputs": [],
   "source": [
    "def F_q(S):\n",
    "    score = 0\n",
    "    for a in attributes:\n",
    "        score += f_q(S, a)\n",
    "    return score"
   ]
  },
  {
   "cell_type": "markdown",
   "metadata": {},
   "source": [
    "### 3) Soft Unit Cumulative Function F_{su}"
   ]
  },
  {
   "cell_type": "code",
   "execution_count": null,
   "metadata": {
    "collapsed": true
   },
   "outputs": [],
   "source": [
    "def F_su(S):\n",
    "    score = 0\n",
    "    for a in attributes:\n",
    "        score += f_su(S, a)\n",
    "    return score"
   ]
  },
  {
   "cell_type": "markdown",
   "metadata": {},
   "source": [
    "### 4) Soft Quality Cumulative Function F_{sq}"
   ]
  },
  {
   "cell_type": "code",
   "execution_count": null,
   "metadata": {
    "collapsed": true
   },
   "outputs": [],
   "source": [
    "def F_sq(S):\n",
    "    score = 0\n",
    "    for a in attributes:\n",
    "        score += f_sq(S, a)\n",
    "    return score"
   ]
  },
  {
   "cell_type": "markdown",
   "metadata": {},
   "source": [
    "### 5) Group Unit Cumulative Function F_{gu}"
   ]
  },
  {
   "cell_type": "code",
   "execution_count": null,
   "metadata": {
    "collapsed": true
   },
   "outputs": [],
   "source": [
    "def F_gu(S):\n",
    "    score = 0\n",
    "    for a in attributes:\n",
    "        score += f_gu(S, a)\n",
    "    return score"
   ]
  },
  {
   "cell_type": "markdown",
   "metadata": {},
   "source": [
    "### 6) Group Quality Cumulative Function F_{gq}"
   ]
  },
  {
   "cell_type": "code",
   "execution_count": null,
   "metadata": {
    "collapsed": true
   },
   "outputs": [],
   "source": [
    "def F_gq(S):\n",
    "    score = 0\n",
    "    for a in attributes:\n",
    "        score += f_gq(S, a)\n",
    "    return score"
   ]
  },
  {
   "cell_type": "markdown",
   "metadata": {},
   "source": [
    "## First Greedy Algorithm"
   ]
  },
  {
   "cell_type": "markdown",
   "metadata": {},
   "source": [
    "### First Greedy Algorithm for F_{u}"
   ]
  },
  {
   "cell_type": "code",
   "execution_count": null,
   "metadata": {
    "collapsed": true
   },
   "outputs": [],
   "source": [
    "def greedyAlgoF_u(k):   \n",
    "    Sout = []\n",
    "    flag = [0]*len(review)\n",
    "    for i in range(0,k):\n",
    "        maxDeltaS = 0\n",
    "        maxDeltaIndex = -1\n",
    "        for r in review:\n",
    "            if flag[review.index(r)] == 0:\n",
    "                Sdummy = list(Sout)\n",
    "                Sdummy.append(r)\n",
    "                deltaS = F_u(Sdummy) - F_u(Sout)\n",
    "                if deltaS > maxDeltaS:\n",
    "                    maxDeltaS = deltaS\n",
    "                    maxDeltaIndex = review.index(r)\n",
    "        if maxDeltaIndex != -1:\n",
    "            Sout.append(review[maxDeltaIndex])\n",
    "#             print(maxDeltaIndex)\n",
    "            flag[maxDeltaIndex] = 1\n",
    "    return Sout"
   ]
  },
  {
   "cell_type": "code",
   "execution_count": null,
   "metadata": {
    "collapsed": true
   },
   "outputs": [],
   "source": [
    "k = 5\n",
    "greedyAlgoF_u(k)"
   ]
  },
  {
   "cell_type": "markdown",
   "metadata": {},
   "source": [
    "### First Greedy Algorithm for F_{q}"
   ]
  },
  {
   "cell_type": "code",
   "execution_count": null,
   "metadata": {
    "collapsed": true
   },
   "outputs": [],
   "source": [
    "def greedyAlgoF_q(k):   \n",
    "    Sout = []\n",
    "    flag = [0]*len(review)\n",
    "    for i in range(0,k):\n",
    "        maxDeltaS = 0\n",
    "        maxDeltaIndex = -1\n",
    "        for r in review:\n",
    "            if flag[review.index(r)] == 0:\n",
    "                Sdummy = list(Sout)\n",
    "                Sdummy.append(r)\n",
    "                deltaS = F_q(Sdummy) - F_q(Sout)\n",
    "                if deltaS > maxDeltaS:\n",
    "                    maxDeltaS = deltaS\n",
    "                    maxDeltaIndex = review.index(r)\n",
    "        if maxDeltaIndex != -1:\n",
    "            Sout.append(review[maxDeltaIndex])\n",
    "#             print(maxDeltaIndex)\n",
    "            flag[maxDeltaIndex] = 1\n",
    "    return Sout"
   ]
  },
  {
   "cell_type": "code",
   "execution_count": null,
   "metadata": {
    "collapsed": true
   },
   "outputs": [],
   "source": [
    "k = 5\n",
    "greedyAlgoF_q(k)"
   ]
  },
  {
   "cell_type": "markdown",
   "metadata": {},
   "source": [
    "### First Greedy Algorithm for F_{su}"
   ]
  },
  {
   "cell_type": "code",
   "execution_count": null,
   "metadata": {
    "collapsed": true
   },
   "outputs": [],
   "source": [
    "def greedyAlgoF_su(k):   \n",
    "    Sout = []\n",
    "    flag = [0]*len(review)\n",
    "    for i in range(0,k):\n",
    "        maxDeltaS = 0\n",
    "        maxDeltaIndex = -1\n",
    "        for r in review:\n",
    "            if flag[review.index(r)] == 0:\n",
    "                Sdummy = list(Sout)\n",
    "                Sdummy.append(r)\n",
    "                deltaS = F_su(Sdummy) - F_su(Sout)\n",
    "                if deltaS > maxDeltaS:\n",
    "                    maxDeltaS = deltaS\n",
    "                    maxDeltaIndex = review.index(r)\n",
    "        if maxDeltaIndex != -1:\n",
    "            Sout.append(review[maxDeltaIndex])\n",
    "#             print(maxDeltaIndex)\n",
    "            flag[maxDeltaIndex] = 1\n",
    "    return Sout"
   ]
  },
  {
   "cell_type": "code",
   "execution_count": null,
   "metadata": {
    "collapsed": true
   },
   "outputs": [],
   "source": [
    "k = 5\n",
    "greedyAlgoF_su(k)"
   ]
  },
  {
   "cell_type": "markdown",
   "metadata": {},
   "source": [
    "### First Greedy Algorithm for F_{sq}"
   ]
  },
  {
   "cell_type": "code",
   "execution_count": null,
   "metadata": {
    "collapsed": true
   },
   "outputs": [],
   "source": [
    "def greedyAlgoF_sq(k):   \n",
    "    Sout = []\n",
    "    flag = [0]*len(review)\n",
    "    for i in range(0,k):\n",
    "        maxDeltaS = 0\n",
    "        maxDeltaIndex = -1\n",
    "        for r in review:\n",
    "            if flag[review.index(r)] == 0:\n",
    "                Sdummy = list(Sout)\n",
    "                Sdummy.append(r)\n",
    "                deltaS = F_sq(Sdummy) - F_sq(Sout)\n",
    "                if deltaS > maxDeltaS:\n",
    "                    maxDeltaS = deltaS\n",
    "                    maxDeltaIndex = review.index(r)\n",
    "        if maxDeltaIndex != -1:\n",
    "            Sout.append(review[maxDeltaIndex])\n",
    "#             print(maxDeltaIndex)\n",
    "            flag[maxDeltaIndex] = 1\n",
    "    return Sout"
   ]
  },
  {
   "cell_type": "code",
   "execution_count": null,
   "metadata": {},
   "outputs": [],
   "source": [
    "k = 5\n",
    "greedyAlgoF_sq(k)"
   ]
  },
  {
   "cell_type": "markdown",
   "metadata": {},
   "source": [
    "## Second t-Greedy Algorithm"
   ]
  },
  {
   "cell_type": "code",
   "execution_count": null,
   "metadata": {},
   "outputs": [],
   "source": [
    "import itertools\n",
    "R1 = []\n",
    "R2 = []\n",
    "for r in range(len(review)):\n",
    "    if refinedSetOfReviews.overall[r] > 3:\n",
    "        R1.append(review[r])\n",
    "    else:\n",
    "        R2.append(review[r])\n",
    "T = list(itertools.product(R1, R2))"
   ]
  },
  {
   "cell_type": "code",
   "execution_count": null,
   "metadata": {},
   "outputs": [],
   "source": [
    "def Ps(t, S):\n",
    "    counter = 0\n",
    "    for a in attributes:\n",
    "        if len(a) > 1:\n",
    "            if (t[0].count(a[0]) > 0 and t[1].count(a[0]) == 0) and (t[0].count(a[1]) > 0 and t[1].count(a[1]) == 0):\n",
    "                for s in S:\n",
    "                    sflag = 0\n",
    "                    for a1 in a:\n",
    "                        if s.count(a1) == 0:\n",
    "                            sflag = 1\n",
    "                    if sflag == 0:\n",
    "                        counter += 1\n",
    "            elif (t[1].count(a[0]) > 0 and t[0].count(a[0]) == 0) and (t[1].count(a[1]) > 0 and t[0].count(a[1]) == 0):\n",
    "                for s in S:\n",
    "                    sflag = 0\n",
    "                    for a1 in a:\n",
    "                        if s.count(a1) == 0:\n",
    "                            sflag = 1\n",
    "                    if sflag == 0:\n",
    "                        counter += 1\n",
    "        else:\n",
    "            if (t[0].count(a[0]) > 0 and t[1].count(a[0]) == 0) or (t[0].count(a[0]) == 0 and t[1].count(a[0]) > 0):\n",
    "                for s in S:\n",
    "                    if a[0] not in s:\n",
    "                        counter += 1\n",
    "    return counter"
   ]
  },
  {
   "cell_type": "markdown",
   "metadata": {},
   "source": [
    "### Second t-greedy algorithm for F_{gu}"
   ]
  },
  {
   "cell_type": "code",
   "execution_count": null,
   "metadata": {
    "collapsed": true
   },
   "outputs": [],
   "source": [
    "def t_greedyAlgoF_gu(k): \n",
    "    sOut = []\n",
    "    flag = [0]*len(T)\n",
    "    while len(sOut) < k:\n",
    "        b = k - len(sOut)\n",
    "        maxCs = 0\n",
    "        maxPs = 0\n",
    "        maxDeltaSCs = 0\n",
    "        maxDeltaIndex = -1\n",
    "        for t in range(0, len(T)):\n",
    "            Cs = 0\n",
    "            if flag[t] == 0:\n",
    "                Sdummy = list(sOut)\n",
    "                Sdummy.append(T[t][0])\n",
    "                Sdummy.append(T[t][1])\n",
    "                deltaS = F_gu(Sdummy) - F_gu(sOut)\n",
    "                if T[t][0] not in sOut:\n",
    "                    Cs += 1\n",
    "                if T[t][1] not in sOut:\n",
    "                    Cs += 1\n",
    "                if Cs <= b and Cs != 0:\n",
    "                    if deltaS/Cs > maxDeltaSCs:\n",
    "                        maxDeltaSCs = deltaS/Cs\n",
    "                        maxDeltaIndex = t\n",
    "                    elif deltaS/Cs == maxDeltaSCs:\n",
    "                        if Ps(T[t], sOut) > maxPs:\n",
    "                            maxPs = Ps(T[t], sOut)\n",
    "                            maxDeltaSCs = deltaS/Cs\n",
    "                            maxDeltaIndex = t\n",
    "        if maxDeltaIndex != -1:\n",
    "            if T[maxDeltaIndex][0] not in sOut:\n",
    "                sOut.append(T[maxDeltaIndex][0])\n",
    "            if T[maxDeltaIndex][1] not in sOut:\n",
    "                sOut.append(T[maxDeltaIndex][1])\n",
    "            print(maxDeltaIndex)\n",
    "            flag[maxDeltaIndex] = 1\n",
    "    return sOut"
   ]
  },
  {
   "cell_type": "code",
   "execution_count": null,
   "metadata": {
    "collapsed": true
   },
   "outputs": [],
   "source": [
    "k = 5\n",
    "t_greedyAlgoF_gu(k)"
   ]
  },
  {
   "cell_type": "markdown",
   "metadata": {},
   "source": [
    "### Second t-greedy algorithm for F_{gq}"
   ]
  },
  {
   "cell_type": "code",
   "execution_count": null,
   "metadata": {
    "collapsed": true
   },
   "outputs": [],
   "source": [
    "def t_greedyAlgoF_gq(k): \n",
    "    sOut = []\n",
    "    flag = [0]*len(T)\n",
    "    while len(sOut) < k:\n",
    "        b = k - len(sOut)\n",
    "        maxCs = 0\n",
    "        maxPs = 0\n",
    "        maxDeltaSCs = 0\n",
    "        maxDeltaIndex = -1\n",
    "        for t in range(0, len(T)):\n",
    "            Cs = 0\n",
    "            if flag[t] == 0:\n",
    "                Sdummy = list(sOut)\n",
    "                Sdummy.append(T[t][0])\n",
    "                Sdummy.append(T[t][1])\n",
    "#                 print(Sdummy)\n",
    "                deltaS = F_gq(Sdummy) - F_gq(sOut)\n",
    "                if T[t][0] not in sOut:\n",
    "                    Cs += 1\n",
    "                if T[t][1] not in sOut:\n",
    "                    Cs += 1\n",
    "                if Cs <= b and Cs != 0:\n",
    "                    if deltaS/Cs > maxDeltaSCs:\n",
    "                        maxDeltaSCs = deltaS/Cs\n",
    "                        maxDeltaIndex = t\n",
    "                    elif deltaS/Cs == maxDeltaSCs:\n",
    "                        if Ps(T[t], sOut) > maxPs:\n",
    "                            maxPs = Ps(T[t], sOut)\n",
    "                            maxDeltaSCs = deltaS/Cs\n",
    "                            maxDeltaIndex = t\n",
    "        if maxDeltaIndex != -1:\n",
    "            if T[maxDeltaIndex][0] not in sOut:\n",
    "                sOut.append(T[maxDeltaIndex][0])\n",
    "            if T[maxDeltaIndex][1] not in sOut:\n",
    "                sOut.append(T[maxDeltaIndex][1])\n",
    "            print(maxDeltaIndex)\n",
    "            flag[maxDeltaIndex] = 1\n",
    "    return sOut"
   ]
  },
  {
   "cell_type": "code",
   "execution_count": null,
   "metadata": {},
   "outputs": [],
   "source": [
    "k = 5\n",
    "t_greedyAlgoF_gq(k)"
   ]
  },
  {
   "cell_type": "markdown",
   "metadata": {},
   "source": [
    "## Three Baseline Algorithms are:"
   ]
  },
  {
   "cell_type": "markdown",
   "metadata": {},
   "source": [
    "### Top Quality  Algorithm"
   ]
  },
  {
   "cell_type": "code",
   "execution_count": null,
   "metadata": {
    "collapsed": true
   },
   "outputs": [],
   "source": [
    "def top_quality(k):\n",
    "    topQuality = []\n",
    "    flag = [0]*len(review)\n",
    "    for i in range(0, k):\n",
    "        maxscore = 0\n",
    "        maxindex = -1\n",
    "        for r in range(len(review)):  \n",
    "            if flag[r] == 0 and refinedSetOfReviews.helpful[r] > maxscore:\n",
    "                maxscore = refinedSetOfReviews.helpful[r]\n",
    "                maxindex = r\n",
    "        flag[maxindex] = 1        \n",
    "        if maxindex != -1:\n",
    "            topQuality.append(review[maxindex])\n",
    "    return topQuality\n"
   ]
  },
  {
   "cell_type": "code",
   "execution_count": null,
   "metadata": {
    "collapsed": true
   },
   "outputs": [],
   "source": [
    "k = 5\n",
    "top_quality(k)"
   ]
  },
  {
   "cell_type": "markdown",
   "metadata": {},
   "source": [
    "### Top Length Algorithm"
   ]
  },
  {
   "cell_type": "code",
   "execution_count": null,
   "metadata": {
    "collapsed": true
   },
   "outputs": [],
   "source": [
    "def top_len(k):  \n",
    "    toplength = []\n",
    "    flag = [0]*len(review)\n",
    "    for i in range(0, k):\n",
    "        maxlen = 0\n",
    "        maxindex = -1\n",
    "        for r in range(len(review)):  \n",
    "            if flag[r] == 0 and len(refinedSetOfReviews.reviewText[r]) > maxlen:\n",
    "                maxlen = len(refinedSetOfReviews.reviewText[r])\n",
    "                maxindex = r\n",
    "        flag[maxindex] = 1        \n",
    "        if maxindex != -1:\n",
    "            toplength.append(review[maxindex])\n",
    "    return toplength"
   ]
  },
  {
   "cell_type": "code",
   "execution_count": null,
   "metadata": {
    "collapsed": true
   },
   "outputs": [],
   "source": [
    "k = 5\n",
    "top_len(k)"
   ]
  },
  {
   "cell_type": "markdown",
   "metadata": {},
   "source": [
    "### Random Algorithm"
   ]
  },
  {
   "cell_type": "code",
   "execution_count": null,
   "metadata": {
    "collapsed": true
   },
   "outputs": [],
   "source": [
    "from random import randint\n",
    "def fRandom(k):\n",
    "    Sreview = []\n",
    "    for i in range(0, k):\n",
    "        Sreview.append(review[randint(0,len(review)-1)])\n",
    "    return Sreview"
   ]
  },
  {
   "cell_type": "code",
   "execution_count": null,
   "metadata": {
    "collapsed": true
   },
   "outputs": [],
   "source": [
    "k = 5\n",
    "fRandom(k)"
   ]
  },
  {
   "cell_type": "markdown",
   "metadata": {},
   "source": [
    "#### Iterate 1000 times for getting average score for random algorithm\n",
    "#### And calculate it for various Cumulative Coverage Score Functions by changing  F_gq with others "
   ]
  },
  {
   "cell_type": "code",
   "execution_count": null,
   "metadata": {
    "collapsed": true
   },
   "outputs": [],
   "source": [
    "sum_rand = 0\n",
    "for j in range(0,1000):\n",
    "    Set = fRandom()\n",
    "    sum_rand += F_gq(Set)\n",
    "metric = sum_rand/1000\n",
    "print(metric)"
   ]
  },
  {
   "cell_type": "markdown",
   "metadata": {},
   "source": [
    "#### Every Algorithm above gives us a set of five reviews. For this set, calculate six cumulative coverage scores and quality score. Normalized these scores with corresponding scores considering set with all reviews i.e. k = n, respectively."
   ]
  },
  {
   "cell_type": "markdown",
   "metadata": {},
   "source": [
    "##### for example, find seven scores on the set obtained by greedyAlgoF_sq(k) \n",
    "##### Normalize the scores by corresponding scores calculated for all reviews"
   ]
  },
  {
   "cell_type": "code",
   "execution_count": null,
   "metadata": {
    "collapsed": true
   },
   "outputs": [],
   "source": [
    "# e.g.\n",
    "k = 5\n",
    "print(F_u(greedyAlgoF_sq(k))/(F_u(review)))\n",
    "print(F_q(greedyAlgoF_sq(k))/(F_q(review)))\n",
    "print(F_su(greedyAlgoF_sq(k))/(F_su(review)))\n",
    "print(F_sq(greedyAlgoF_sq(k))/(F_sq(review)))\n",
    "print(F_gu(greedyAlgoF_sq(k))/(F_gu(review)))\n",
    "print(F_gq(greedyAlgoF_sq(k))/(F_gq(review)))\n",
    "print(fQuality(greedyAlgoF_sq(k))/(fQuality(review)))"
   ]
  }
 ],
 "metadata": {
  "anaconda-cloud": {},
  "kernelspec": {
   "display_name": "Python 3",
   "language": "python",
   "name": "python3"
  },
  "language_info": {
   "codemirror_mode": {
    "name": "ipython",
    "version": 3
   },
   "file_extension": ".py",
   "mimetype": "text/x-python",
   "name": "python",
   "nbconvert_exporter": "python",
   "pygments_lexer": "ipython3",
   "version": "3.7.4"
  }
 },
 "nbformat": 4,
 "nbformat_minor": 1
}
